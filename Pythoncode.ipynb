# Great-Indian-Hackathon
Great Indian hackathon by machinehack


import numpy as np
import pandas as pd
import seaborn as sns
import matplotlib.pyplot as plt

%matplotlib inline
train_data = pd.read_csv("E:\Train.csv")
train_data.head()
train_data.isnull().sum()
train_data=train_data.drop('InvoiceDate',axis=1)
train_data.head()
sns.barplot(x='Quantity',y="UnitPrice",data=train_data)
x=train_data.drop(columns='UnitPrice')
y=train_data['UnitPrice']
x=np.array(x)
y=np.array(y)
x.shape,y.shape
from sklearn.linear_model import LinearRegression
lg = LinearRegression(normalize=True)
lg.fit(x,y)
from sklearn.ensemble import RandomForestRegressor
Rf=RandomForestRegressor(random_state=2,max_depth=2)
Rf.fit(x,y)
from sklearn.ensemble import GradientBoostingRegressor
Gb=GradientBoostingRegressor(learning_rate=0.01,random_state=2)
Gb.fit(x,y)
from sklearn.ensemble import VotingRegressor
model = VotingRegressor(estimators=[('en',lg),('rf', Rf), ('gb',Gb)])
model.fit(x,y)


test_data = pd.read_csv("E:\Test.csv")
test_data.head()
test_data.isnull().sum()
sns.countplot(x='Quantity',data=test_data)
test_data=test_data.drop(columns='InvoiceDate')
y_pred=model.predict(test_data)
new_data=y[0:122049]
y_pred
results=pd.DataFrame(data=y_pred,columns=["UnitPrice"]).round(2)
results.head()
from sklearn.metrics import mean_squared_error
import math
print(math.sqrt(mean_squared_error(new_data,results)))
